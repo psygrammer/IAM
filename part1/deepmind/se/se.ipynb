{
 "cells": [
  {
   "cell_type": "markdown",
   "metadata": {},
   "source": [
    "* https://arxiv.org/abs/1611.01224\n",
    "* https://docs.google.com/presentation/d/19QqJ6i3AYr3V9I_FCJOHd59h2gzAxoasGAZO2QQNpIs/edit#slide=id.g1a01b09464_0_1"
   ]
  }
 ],
 "metadata": {
  "kernelspec": {
   "display_name": "Python 3",
   "language": "python",
   "name": "python3"
  },
  "language_info": {
   "codemirror_mode": {
    "name": "ipython",
    "version": 3
   },
   "file_extension": ".py",
   "mimetype": "text/x-python",
   "name": "python",
   "nbconvert_exporter": "python",
   "pygments_lexer": "ipython3",
   "version": "3.4.3"
  }
 },
 "nbformat": 4,
 "nbformat_minor": 0
}
