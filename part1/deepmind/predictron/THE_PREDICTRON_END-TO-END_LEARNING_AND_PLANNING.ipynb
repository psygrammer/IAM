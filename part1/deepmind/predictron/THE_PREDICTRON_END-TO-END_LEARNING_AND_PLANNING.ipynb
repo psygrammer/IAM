{
 "cells": [
  {
   "cell_type": "markdown",
   "metadata": {},
   "source": [
    "# THE PREDICTRON: END-TO-END LEARNING AND PLANNING"
   ]
  },
  {
   "cell_type": "markdown",
   "metadata": {},
   "source": [
    "* 싸이그래머/IAM : 파트 1 - 딥마인드 논문리뷰 [1]\n",
    "* 김무성"
   ]
  },
  {
   "cell_type": "markdown",
   "metadata": {},
   "source": [
    "# Contents\n",
    "* ABSTRACT\n",
    "* 1 INTRODUCTION\n",
    "* 2 BACKGROUND\n",
    "* 3 PREDICTRON ARCHITECTURE\n",
    "* 4 PREDICTRON LEARNING UPDATES\n",
    "    - 4.1 SUPERVISED (MONTE-CARLO) LEARNING WITH THE PREDICTRON\n",
    "    - 4.2 CONSISTENCY (SEMI-SUPERVISED) LEARNING WITH THE PREDICTRON\n",
    "* 5 EXPERIMENTS\n",
    "    - 5.1 EXPLORING THE PREDICTRON ARCHITECTURE\n",
    "    - 5.2 COMPARING THE PREDICTRON TO OTHER DEEP NETWORKS\n",
    "    - 5.3 SEMI-SUPERVISED LEARNING BY CONSISTENCY\n",
    "    - 5.4 ANALYSIS OF ADAPTIVE DEPTH\n",
    "    - 5.5 VISUALIZING THE PREDICTIONS IN THE POOL DOMAIN\n",
    "* 6 RELATED WORK\n",
    "* 7 DISCUSSION"
   ]
  },
  {
   "cell_type": "markdown",
   "metadata": {},
   "source": [
    "# ABSTRACT"
   ]
  },
  {
   "cell_type": "markdown",
   "metadata": {},
   "source": [
    "* One of the key challenges of artificial intelligence is to <font color=\"red\">learn models</font> that are effective <font color=\"red\">in the context of planning</font>.\n",
    "* In this document we introduce the <font color=\"red\">predictron architecture</font>.\n",
    "* The predictron consists of a <font color=\"red\">fully abstract model</font>, \n",
    "    - represented by a <font color=\"red\">Markov reward process</font>, \n",
    "        - that can be <font color=\"red\">rolled forward multiple “imagined” planning steps</font>.\n",
    "* Each forward pass of the predictron \n",
    "    - <font color=\"red\">accumulates internal rewards and values</font> \n",
    "        - over multiple planning depths.\n",
    "* The predictron is <font color=\"red\">trained end-to-end</font> so as to make these accumulated values accurately <font color=\"red\">approximate the true value function</font>.\n",
    "* We applied the predictron to procedurally generated \n",
    "    - <font color=\"red\">random mazes</font> and \n",
    "    - a simulator for <font color=\"red\">the game of pool</font>.\n",
    "* The predictron yielded significantly <font color=\"red\">more accurate predictions than</font> <font color=\"blue\">conventional deep neural network architectures</font>"
   ]
  },
  {
   "cell_type": "markdown",
   "metadata": {},
   "source": [
    "#### 참고\n",
    "* [3] Markov reward model - https://en.wikipedia.org/wiki/Markov_reward_model\n",
    "* [4] Lecture 2: Markov Decision Processes - http://www0.cs.ucl.ac.uk/staff/d.silver/web/Teaching_files/MDP.pdf"
   ]
  },
  {
   "cell_type": "markdown",
   "metadata": {},
   "source": [
    "# 1 INTRODUCTION"
   ]
  },
  {
   "cell_type": "markdown",
   "metadata": {},
   "source": [
    "#### model-based RL\n",
    "* The central idea of model-based reinforcement learning is to decompose the RL problem into two subproblems: \n",
    "    - learning a model of the environment, and then \n",
    "    - planning with this model. \n",
    "* The model \n",
    "    - is typically represented by a Markov reward process (MRP) or decision process (MDP). \n",
    "* The planning component \n",
    "    - uses this model \n",
    "        - to evaluate and select \n",
    "            - among possible strategies. \n",
    "\n",
    "#### Rrolling forward the model          \n",
    "* planning\n",
    "    - This is typically achieved by rolling forward the model \n",
    "        - to construct a value function that \n",
    "            - estimates cumulative reward. \n",
    "\n",
    "#### trained essentially independently\n",
    "* In prior work, \n",
    "    - the model is trained essentially independently of \n",
    "        - its use within the planner. \n",
    "    - As a result, \n",
    "        - the model is not well-matched \n",
    "            - with the overall objective of the agent. \n",
    "\n",
    "#### VS. model-free\n",
    "* Prior deep reinforcement learning methods have successfully constructed models that can unroll near pixel-perfect reconstructions but are <font color=\"red\">yet to surpass state-of-the-art model-free methods</font> in challenging RL domains with raw inputs "
   ]
  },
  {
   "cell_type": "markdown",
   "metadata": {},
   "source": [
    "#### The Predictron\n",
    "* In this paper we introduce a new architecture, which we call the predictron, that <font color=\"red\">integrates learning and planning</font> <font color=\"blue\">into one end-to-end training procedure</font>. \n",
    "* At every step, a model is applied to an internal state, to produce a next state, reward, discount, and value estimate. \n",
    "* This model is completely abstract and its <font color=\"red\">only goal is to facilitate accurate value prediction</font>. "
   ]
  },
  {
   "cell_type": "markdown",
   "metadata": {},
   "source": [
    "# 2 BACKGROUND"
   ]
  },
  {
   "cell_type": "markdown",
   "metadata": {},
   "source": [
    "<img src=\"figures/cap1.png\" width=600 />"
   ]
  },
  {
   "cell_type": "markdown",
   "metadata": {},
   "source": [
    "# 3 PREDICTRON ARCHITECTURE"
   ]
  },
  {
   "cell_type": "markdown",
   "metadata": {},
   "source": [
    "<img src=\"figures/cap4.png\" width=800 />"
   ]
  },
  {
   "cell_type": "markdown",
   "metadata": {},
   "source": [
    "<img src=\"figures/cap2.png\" width=600 />"
   ]
  },
  {
   "cell_type": "markdown",
   "metadata": {},
   "source": [
    "<img src=\"figures/cap3.png\" width=600 />"
   ]
  },
  {
   "cell_type": "markdown",
   "metadata": {},
   "source": [
    "* Each $λ_k$ weight acts as a gate on the computation of the λ-preturn: \n",
    "    - a value of λk = 0 will truncate the λ-preturn at layer k, while a value of $λ_k$ = I will utilise deeper layers based on additional steps of the model m; \n",
    "    - the final weight is always $λ_K$ = 0. \n",
    "    - The individual $λ_k$ weights may depend on the corresponding abstract state $s_k$ and can differ per prediction. \n",
    "    - <font color=\"red\">This enables the predictron to compute to an adaptive depth (Graves, 2016) depending on the internal state and learning dynamics of the network</font>."
   ]
  },
  {
   "cell_type": "markdown",
   "metadata": {},
   "source": [
    "# 4 PREDICTRON LEARNING UPDATES\n",
    "* 4.1 SUPERVISED (MONTE-CARLO) LEARNING WITH THE PREDICTRON\n",
    "* 4.2 CONSISTENCY (SEMI-SUPERVISED) LEARNING WITH THE PREDICTRON"
   ]
  },
  {
   "cell_type": "markdown",
   "metadata": {},
   "source": [
    "## 4.1 SUPERVISED (MONTE-CARLO) LEARNING WITH THE PREDICTRON"
   ]
  },
  {
   "cell_type": "markdown",
   "metadata": {},
   "source": [
    "We can update all the k-step preturns $g^0$, . . . , $g^K$ towards a target outcome g, such as the Monte Carlo return from the outcomes of episodes in the environment, by minimising a mean-squared error loss,"
   ]
  },
  {
   "cell_type": "markdown",
   "metadata": {},
   "source": [
    "<img src=\"figures/cap5.png\" width=700 />"
   ]
  },
  {
   "cell_type": "markdown",
   "metadata": {},
   "source": [
    "## 4.2 CONSISTENCY (SEMI-SUPERVISED) LEARNING WITH THE PREDICTRON"
   ]
  },
  {
   "cell_type": "markdown",
   "metadata": {},
   "source": [
    "* Ideally, the predictron (f,m,v) learns preturns that are <font color=\"blue\">all equal in expectation</font> to the true value function of the environment, \n",
    "    - $E_m$[$g_k$|s] = $E_p$[$g_t$|$s_t$ = s] = $v_p(s)$, \n",
    "        - in which case the preturns must be equal in expectation, \n",
    "            - $E_m$[$g_0$|s] = $E_m$[$g_1$|s]  = ... = $E_m$[$g_K$|s] . \n",
    "* This may be interpreted as satisfying \n",
    "    - a Bellman equation, \n",
    "        - <font color=\"blue\">unrolled K times</font>,\n",
    "            - on the model m. \n",
    "* In addition, <font color=\"blue\">each k-step preturn must be equal in expectation</font> to the λ-preturn, \n",
    "    - $E_m$[$g_k$|s] = $E_m$[$g^λ$|s] , for any λ parameters. \n",
    "* <font color=\"blue\">All these consistency relations</font> \n",
    "    - between preturns \n",
    "    - give rise to <font color=\"blue\">additional constraints</font> upon the predictron.\n",
    "* Specifically, <font color=\"red\">we may adjust the parameters</font> of the predictron to lead to consistent preturns, <font color=\"red\">even in the absence of labelled targets</font>."
   ]
  },
  {
   "cell_type": "markdown",
   "metadata": {},
   "source": [
    "Concretely, we can adjust each preturn $g^k$ towards the λ-preturn $g^λ$; in other words, we can update each individual value estimate towards the best aggregated estimate by minimizing"
   ]
  },
  {
   "cell_type": "markdown",
   "metadata": {},
   "source": [
    "<img src=\"figures/cap6.png\" width=600 />"
   ]
  },
  {
   "cell_type": "markdown",
   "metadata": {},
   "source": [
    "* Here $g^λ$ is considered fixed; the parameters θ are only updated to make $g^k$ more similar to gλ, not vice versa. \n",
    "* This consistency update <font color=\"red\">does not require any labels g or samples from the environment</font>."
   ]
  },
  {
   "cell_type": "markdown",
   "metadata": {},
   "source": [
    "As a result, it can be applied to (potentially hypothetical) states that have <font color=\"blue\">no associated ‘real’ (e.g. Monte-Carlo) outcome</font>: \n",
    "* <font color=\"red\">we update the value estimates to be self-consistent with each other</font>. \n",
    "* Note the similarity with the semi-supervised setting, where <font color=\"red\">we may have unlabelled inputs</font>."
   ]
  },
  {
   "cell_type": "markdown",
   "metadata": {},
   "source": [
    "# 5 EXPERIMENTS\n",
    "* 5.1 EXPLORING THE PREDICTRON ARCHITECTURE\n",
    "* 5.2 COMPARING THE PREDICTRON TO OTHER DEEP NETWORKS\n",
    "* 5.3 SEMI-SUPERVISED LEARNING BY CONSISTENCY\n",
    "* 5.4 ANALYSIS OF ADAPTIVE DEPTH\n",
    "* 5.5 VISUALIZING THE PREDICTIONS IN THE POOL DOMAIN"
   ]
  },
  {
   "cell_type": "markdown",
   "metadata": {},
   "source": [
    "<img src=\"figures/cap7.png\" width=800 />"
   ]
  },
  {
   "cell_type": "markdown",
   "metadata": {},
   "source": [
    "<img src=\"figures/core.png\" width=600 />"
   ]
  },
  {
   "cell_type": "markdown",
   "metadata": {},
   "source": [
    "<img src=\"figures/pool.png\" width=400 />"
   ]
  },
  {
   "cell_type": "markdown",
   "metadata": {},
   "source": [
    "## 5.1 EXPLORING THE PREDICTRON ARCHITECTURE"
   ]
  },
  {
   "cell_type": "markdown",
   "metadata": {},
   "source": [
    "<img src=\"figures/cap8.png\" width=600 />"
   ]
  },
  {
   "cell_type": "markdown",
   "metadata": {},
   "source": [
    "## 5.2 COMPARING THE PREDICTRON TO OTHER DEEP NETWORKS"
   ]
  },
  {
   "cell_type": "markdown",
   "metadata": {},
   "source": [
    "<img src=\"figures/cap9.png\" width=600 />"
   ]
  },
  {
   "cell_type": "markdown",
   "metadata": {},
   "source": [
    "## 5.3 SEMI-SUPERVISED LEARNING BY CONSISTENCY"
   ]
  },
  {
   "cell_type": "markdown",
   "metadata": {},
   "source": [
    "<img src=\"figures/cap10.png\" width=600 />"
   ]
  },
  {
   "cell_type": "markdown",
   "metadata": {},
   "source": [
    "## 5.4 ANALYSIS OF ADAPTIVE DEPTH"
   ]
  },
  {
   "cell_type": "markdown",
   "metadata": {},
   "source": [
    "In principle, the predictron can adapt its depth to ‘think more’ about some predictions than others, perhaps depending on the complexity of the underlying target."
   ]
  },
  {
   "cell_type": "markdown",
   "metadata": {},
   "source": [
    "The depth distributions exhibit three properties. \n",
    "* First, different types of predictions used different depths. \n",
    "* Second, depth was correlated with the real-world discount for the first four prediction types. \n",
    "* Third, the distributions are not strongly peaked, which implies that the depth can differ per input even for a single real-world discount and prediction type. \n",
    "\n",
    "In a control experiment (not shown) we used a scalar λ shared among all predictions, which reduced performance in all scenarios, <font color=\"red\">indicating that the heterogeneous depth is a valuable form of flexibility</font>."
   ]
  },
  {
   "cell_type": "markdown",
   "metadata": {},
   "source": [
    "<img src=\"figures/cap11.png\" width=600 />"
   ]
  },
  {
   "cell_type": "markdown",
   "metadata": {},
   "source": [
    "## 5.5 VISUALIZING THE PREDICTIONS IN THE POOL DOMAIN"
   ]
  },
  {
   "cell_type": "code",
   "execution_count": 1,
   "metadata": {
    "collapsed": false
   },
   "outputs": [
    {
     "data": {
      "image/jpeg": "[encoded data removed]",
      "text/html": [
       "\n",
       "        <iframe\n",
       "            width=\"400\"\n",
       "            height=\"300\"\n",
       "            src=\"https://www.youtube.com/embed/BeaLdaN2C3Q\"\n",
       "            frameborder=\"0\"\n",
       "            allowfullscreen\n",
       "        ></iframe>\n",
       "        "
      ],
      "text/plain": [
       "<IPython.lib.display.YouTubeVideo at 0x7fed004eeb70>"
      ]
     },
     "execution_count": 1,
     "metadata": {},
     "output_type": "execute_result"
    }
   ],
   "source": [
    "from IPython.display import YouTubeVideo\n",
    "YouTubeVideo('BeaLdaN2C3Q')"
   ]
  },
  {
   "cell_type": "markdown",
   "metadata": {},
   "source": [
    "# 6 RELATED WORK"
   ]
  },
  {
   "cell_type": "markdown",
   "metadata": {},
   "source": [
    "* Lee et al. (2015) introduced a neural network architecture where classifications branch off interme- diate hidden layers.\n",
    "* Value iteration networks (Tamar et al., 2016) use convolutional and max-pooling layers to represent a step of value iteration.\n",
    "* Schmidhuber (2015) dicusses learning abstract models."
   ]
  },
  {
   "cell_type": "markdown",
   "metadata": {},
   "source": [
    "# 7 DISCUSSION"
   ]
  },
  {
   "cell_type": "markdown",
   "metadata": {},
   "source": [
    "* The predictron is a single differentiable architecture that rolls forward an internal model to estimate values. This internal model may be given both the structure and the semantics of traditional rein- forcement learning models. But unlike most approaches to model-based reinforcement learning, the model is fully abstract: <font color=\"red\">it need not correspond to the real environment in any human understandable fashion, so long as its rolled-forward “plans” accurately predict outcomes in the true environment</font>.\n",
    "\n",
    "* <font color=\"red\">The predictron may be viewed as a novel network architecture that incorporates several separable ideas.</font> \n",
    "     - First, the predictron outputs a value by accumulating rewards over a series of internal planning steps. \n",
    "     - Second, each forward pass of the predictron outputs values at multiple planning depths.\n",
    "     - Third, these values may be combined together, also within a single forward pass, to output an overall ensemble value. \n",
    "     - Finally, the different values output by the predictron may be encouraged to be self-consistent with each other, to provide an additional signal during learning. \n",
    "     - Our experiments demonstrate that these differences result in more accurate predictions of value, in reinforcement learning environments, than more conventional network architectures.\n",
    "\n",
    "* We have focused on value prediction tasks in uncontrolled environments. \n",
    "    - However, <font color=\"red\">these ideas may transfer to the control setting</font>, for example by using the predictron as a Q-network (Mnih et al., 2015). \n",
    "    - <font color=\"red\">Even more intriguing is the possibility of learning an internal MDP with abstract internal actions</font>, rather than the MRP model considered in this paper. \n",
    "    - We aim to explore these ideas in future work."
   ]
  },
  {
   "cell_type": "markdown",
   "metadata": {},
   "source": [
    "# 참고자료 \n",
    "* [1] (paper) The Predictron: End-To-End Learning and Planning - https://arxiv.org/abs/1612.08810\n",
    "* [2] (code) zhongwen/predictron - https://github.com/zhongwen/predictron\n",
    "* [3] Markov reward model - https://en.wikipedia.org/wiki/Markov_reward_model\n",
    "* [4] Lecture 2: Markov Decision Processes - http://www0.cs.ucl.ac.uk/staff/d.silver/web/Teaching_files/MDP.pdf\n",
    "* [5] (video) Predictron network on pool domain - https://youtu.be/BeaLdaN2C3Q"
   ]
  }
 ],
 "metadata": {
  "kernelspec": {
   "display_name": "Python 3",
   "language": "python",
   "name": "python3"
  },
  "language_info": {
   "codemirror_mode": {
    "name": "ipython",
    "version": 3
   },
   "file_extension": ".py",
   "mimetype": "text/x-python",
   "name": "python",
   "nbconvert_exporter": "python",
   "pygments_lexer": "ipython3",
   "version": "3.4.3"
  }
 },
 "nbformat": 4,
 "nbformat_minor": 0
}
